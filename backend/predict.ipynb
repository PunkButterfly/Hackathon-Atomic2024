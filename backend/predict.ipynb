{
 "cells": [
  {
   "cell_type": "code",
   "execution_count": 1,
   "metadata": {},
   "outputs": [],
   "source": [
    "from models.Detector import Detector\n",
    "import os\n",
    "from tqdm import tqdm\n",
    "import pandas as pd\n",
    "\n",
    "weights_path = 'models/weights/'\n",
    "\n",
    "model = Detector(path_to_weights=weights_path, path_to_tmp='./tmp_files', weights_name='detector_weights_v2.pt')"
   ]
  },
  {
   "cell_type": "code",
   "execution_count": 2,
   "metadata": {},
   "outputs": [],
   "source": [
    "path_to_images = '../dataset'\n",
    "\n",
    "image_paths = [os.path.join(path_to_images, filename) for filename in os.listdir(path_to_images) if filename.endswith('.jpg')]"
   ]
  },
  {
   "cell_type": "code",
   "execution_count": 3,
   "metadata": {},
   "outputs": [
    {
     "name": "stderr",
     "output_type": "stream",
     "text": [
      "100%|██████████| 1162/1162 [03:02<00:00,  6.36it/s]\n"
     ]
    }
   ],
   "source": [
    "predicts = []\n",
    "for img in tqdm(image_paths):\n",
    "    predicts += model.predict([img])"
   ]
  },
  {
   "cell_type": "code",
   "execution_count": 7,
   "metadata": {},
   "outputs": [],
   "source": [
    "def format_output(predicts):\n",
    "    formated_predicts = {\n",
    "            'filename' : [],\n",
    "            'class_id' : [],\n",
    "            'rel_x' : [],\n",
    "            'rel_y' : [],\n",
    "            'width' : [],\n",
    "            'height' : []\n",
    "        }\n",
    "\n",
    "    classes_map = {\n",
    "        \"adj\": 0,\n",
    "        \"int\": 1,\n",
    "        \"geo\": 2,\n",
    "        \"pro\": 3,\n",
    "        \"non\": 4,\n",
    "    }\n",
    "    \n",
    "    for item in predicts:\n",
    "        image_name = item['source_img_path'].split('/')[-1]\n",
    "        for i, cls in enumerate(item['names']):\n",
    "            parsed_coords = item['xywhn'].tolist()\n",
    "\n",
    "            formated_predicts['filename'].append(image_name)\n",
    "            formated_predicts['class_id'].append(classes_map[cls])\n",
    "            formated_predicts['rel_x'].append(parsed_coords[i][0])\n",
    "            formated_predicts['rel_y'].append(parsed_coords[i][1])\n",
    "            formated_predicts['width'].append(parsed_coords[i][2])\n",
    "            formated_predicts['height'].append(parsed_coords[i][3])\n",
    "            \n",
    "    return formated_predicts"
   ]
  },
  {
   "cell_type": "code",
   "execution_count": 8,
   "metadata": {},
   "outputs": [],
   "source": [
    "pd.DataFrame(format_output(predicts)).to_csv('submission.csv', index=False, sep=';')"
   ]
  },
  {
   "cell_type": "code",
   "execution_count": null,
   "metadata": {},
   "outputs": [],
   "source": []
  }
 ],
 "metadata": {
  "kernelspec": {
   "display_name": "Python 3",
   "language": "python",
   "name": "python3"
  },
  "language_info": {
   "codemirror_mode": {
    "name": "ipython",
    "version": 3
   },
   "file_extension": ".py",
   "mimetype": "text/x-python",
   "name": "python",
   "nbconvert_exporter": "python",
   "pygments_lexer": "ipython3",
   "version": "3.11.2"
  }
 },
 "nbformat": 4,
 "nbformat_minor": 2
}
