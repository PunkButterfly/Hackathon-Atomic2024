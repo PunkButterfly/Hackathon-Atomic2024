{
 "cells": [
  {
   "cell_type": "code",
   "execution_count": 1,
   "metadata": {},
   "outputs": [],
   "source": [
    "from models.Detecor import Detector\n",
    "import os\n",
    "\n",
    "weights_path = 'models/weights/'\n",
    "\n",
    "model = Detector(path_to_weights=weights_path, path_to_tmp='tmp_files', weights_name='detector_weights_v1.pt')"
   ]
  },
  {
   "cell_type": "code",
   "execution_count": 2,
   "metadata": {},
   "outputs": [
    {
     "name": "stdout",
     "output_type": "stream",
     "text": [
      "Detection...\n",
      "\n",
      "image 1/9 /Users/kuprik01/Projects/Hackathon-Atomic2024/backend/tmp_files/1 (11).jpg: 384x640 7 adjs, 55.1ms\n",
      "image 2/9 /Users/kuprik01/Projects/Hackathon-Atomic2024/backend/tmp_files/4 (111).jpg: 384x640 3 adjs, 1 geo, 45.2ms\n",
      "image 3/9 /Users/kuprik01/Projects/Hackathon-Atomic2024/backend/tmp_files/5 (115).jpg: 384x640 1 adj, 4 geos, 48.9ms\n",
      "image 4/9 /Users/kuprik01/Projects/Hackathon-Atomic2024/backend/tmp_files/5 (200).jpg: 384x640 6 adjs, 42.4ms\n",
      "image 5/9 /Users/kuprik01/Projects/Hackathon-Atomic2024/backend/tmp_files/6 (71).jpg: 640x384 (no detections), 42.3ms\n",
      "image 6/9 /Users/kuprik01/Projects/Hackathon-Atomic2024/backend/tmp_files/7 (160).jpg: 640x384 1 adj, 1 geo, 42.7ms\n",
      "image 7/9 /Users/kuprik01/Projects/Hackathon-Atomic2024/backend/tmp_files/9 (20).jpg: 640x384 1 geo, 42.1ms\n",
      "image 8/9 /Users/kuprik01/Projects/Hackathon-Atomic2024/backend/tmp_files/9 (30).jpg: 640x384 1 geo, 43.5ms\n",
      "image 9/9 /Users/kuprik01/Projects/Hackathon-Atomic2024/backend/tmp_files/9 (60).jpg: 640x384 (no detections), 42.5ms\n",
      "Speed: 2.1ms preprocess, 45.0ms inference, 13.2ms postprocess per image at shape (1, 3, 640, 384)\n"
     ]
    }
   ],
   "source": [
    "path_to_images = './tmp_files'\n",
    "\n",
    "image_paths = [os.path.join(path_to_images, filename) for filename in os.listdir(path_to_images)]\n",
    "predicts = model.predict(path_to_images)"
   ]
  },
  {
   "cell_type": "code",
   "execution_count": 3,
   "metadata": {},
   "outputs": [
    {
     "data": {
      "text/plain": [
       "[{'predict_img_path': 'tmp_filestmp_2024-06-15 13:11:52.036761.jpg',\n",
       "  'names': ['adj', 'adj', 'adj', 'adj', 'adj', 'adj', 'adj'],\n",
       "  'confs': [0.6270024180412292,\n",
       "   0.6241234540939331,\n",
       "   0.6122649312019348,\n",
       "   0.4597775340080261,\n",
       "   0.3671072721481323,\n",
       "   0.28403645753860474,\n",
       "   0.27125605940818787],\n",
       "  'coords': array([[     708.05,      820.96,      748.98,      866.18],\n",
       "         [     710.75,      365.87,      753.01,      407.47],\n",
       "         [     397.04,      297.96,      457.77,      358.13],\n",
       "         [     717.29,      436.97,       779.5,      521.51],\n",
       "         [     781.44,      639.59,      823.39,      689.22],\n",
       "         [     84.191,      585.01,      124.09,      636.08],\n",
       "         [     108.25,       442.1,      190.08,       526.9]], dtype=float32),\n",
       "  'xywhn': array([[    0.37944,     0.78108,    0.021321,    0.041875],\n",
       "         [    0.38119,     0.35803,     0.02201,    0.038526],\n",
       "         [    0.22261,     0.30375,    0.031632,    0.055717],\n",
       "         [    0.38979,     0.44374,    0.032397,    0.078274],\n",
       "         [    0.41792,     0.61519,    0.021849,    0.045951],\n",
       "         [   0.054239,     0.56532,    0.020779,    0.047284],\n",
       "         [    0.07769,     0.44861,    0.042616,    0.078521]], dtype=float32)},\n",
       " {'predict_img_path': 'tmp_filestmp_2024-06-15 13:11:52.046641.jpg',\n",
       "  'names': ['geo', 'adj', 'adj', 'adj'],\n",
       "  'confs': [0.7103434205055237,\n",
       "   0.6855120658874512,\n",
       "   0.5932119488716125,\n",
       "   0.51140958070755],\n",
       "  'coords': array([[     1707.5,      1337.4,      2270.3,      1611.5],\n",
       "         [       2479,      1785.9,      2633.5,      1974.8],\n",
       "         [     2781.8,      1899.9,      2879.8,      2014.5],\n",
       "         [     1503.4,      1812.7,      1584.9,      1896.8]], dtype=float32),\n",
       "  'xywhn': array([[    0.51795,     0.68261,     0.14658,     0.12688],\n",
       "         [    0.66569,     0.87053,    0.040248,    0.087443],\n",
       "         [    0.73718,     0.90612,    0.025514,    0.053092],\n",
       "         [    0.40211,      0.8587,    0.021224,    0.038931]], dtype=float32)},\n",
       " {'predict_img_path': 'tmp_filestmp_2024-06-15 13:11:52.076735.jpg',\n",
       "  'names': ['geo', 'geo', 'geo', 'geo', 'adj'],\n",
       "  'confs': [0.4153984487056732,\n",
       "   0.3010447025299072,\n",
       "   0.27887681126594543,\n",
       "   0.2722380459308624,\n",
       "   0.2669943869113922],\n",
       "  'coords': array([[     1670.2,      1336.2,      2040.7,        1660],\n",
       "         [     1689.9,        1436,      2039.9,      1658.3],\n",
       "         [     1705.5,           0,      2027.8,      132.61],\n",
       "         [     1672.3,      589.88,      2018.3,      816.29],\n",
       "         [     2141.6,      226.11,      2209.3,       289.8]], dtype=float32),\n",
       "  'xywhn': array([[    0.48319,     0.69356,    0.096488,     0.14988],\n",
       "         [    0.48564,     0.71626,    0.091139,      0.1029],\n",
       "         [     0.4861,    0.030697,     0.08393,    0.061394],\n",
       "         [    0.48055,      0.3255,     0.09009,     0.10482],\n",
       "         [    0.56652,     0.11942,    0.017612,    0.029486]], dtype=float32)},\n",
       " {'predict_img_path': 'tmp_filestmp_2024-06-15 13:11:52.110155.jpg',\n",
       "  'names': ['adj', 'adj', 'adj', 'adj', 'adj', 'adj'],\n",
       "  'confs': [0.6546331644058228,\n",
       "   0.5829894542694092,\n",
       "   0.49988171458244324,\n",
       "   0.4454615116119385,\n",
       "   0.4132032096385956,\n",
       "   0.406332403421402],\n",
       "  'coords': array([[     2579.7,      346.66,      2695.6,      514.14],\n",
       "         [     2479.4,      148.95,        2600,       290.5],\n",
       "         [     3129.9,      298.23,      3234.1,      425.96],\n",
       "         [     2439.2,        1478,      2570.8,      1611.9],\n",
       "         [     2543.8,        1650,      2700.2,      1857.6],\n",
       "         [     2556.8,      1656.5,        2665,      1783.3]], dtype=float32),\n",
       "  'xywhn': array([[    0.68688,     0.19926,    0.030165,    0.077537],\n",
       "         [    0.66138,     0.10173,    0.031382,    0.065532],\n",
       "         [    0.82865,     0.16764,     0.02714,    0.059131],\n",
       "         [    0.65234,     0.71525,    0.034259,    0.061992],\n",
       "         [    0.68282,     0.81193,     0.04073,    0.096095],\n",
       "         [    0.67992,     0.79625,    0.028186,    0.058694]], dtype=float32)},\n",
       " {'predict_img_path': 'tmp_filestmp_2024-06-15 13:11:52.141123.jpg',\n",
       "  'names': [],\n",
       "  'confs': [],\n",
       "  'coords': array([], shape=(0, 4), dtype=float32),\n",
       "  'xywhn': array([], shape=(0, 4), dtype=float32)},\n",
       " {'predict_img_path': 'tmp_filestmp_2024-06-15 13:11:52.169373.jpg',\n",
       "  'names': ['adj', 'geo'],\n",
       "  'confs': [0.45766550302505493, 0.3828803300857544],\n",
       "  'coords': array([[     1496.4,      2872.1,      1600.4,      2997.1],\n",
       "         [     594.31,      1803.1,      729.99,        2372]], dtype=float32),\n",
       "  'xywhn': array([[    0.71684,     0.76422,     0.04814,    0.032541],\n",
       "         [    0.30655,     0.54363,    0.062813,     0.14815]], dtype=float32)},\n",
       " {'predict_img_path': 'tmp_filestmp_2024-06-15 13:11:52.203890.jpg',\n",
       "  'names': ['geo'],\n",
       "  'confs': [0.4985446631908417],\n",
       "  'coords': array([[     835.21,      2092.8,      1401.3,      2683.5]], dtype=float32),\n",
       "  'xywhn': array([[    0.51772,     0.62191,      0.2621,     0.15385]], dtype=float32)},\n",
       " {'predict_img_path': 'tmp_filestmp_2024-06-15 13:11:52.233725.jpg',\n",
       "  'names': ['geo'],\n",
       "  'confs': [0.5042669773101807],\n",
       "  'coords': array([[     753.83,      1401.2,      1317.5,      1946.6]], dtype=float32),\n",
       "  'xywhn': array([[    0.47948,     0.43591,     0.26097,     0.14204]], dtype=float32)},\n",
       " {'predict_img_path': 'tmp_filestmp_2024-06-15 13:11:52.264258.jpg',\n",
       "  'names': [],\n",
       "  'confs': [],\n",
       "  'coords': array([], shape=(0, 4), dtype=float32),\n",
       "  'xywhn': array([], shape=(0, 4), dtype=float32)}]"
      ]
     },
     "execution_count": 3,
     "metadata": {},
     "output_type": "execute_result"
    }
   ],
   "source": [
    "def format_output(predicts):\n",
    "    predicts"
   ]
  },
  {
   "cell_type": "code",
   "execution_count": null,
   "metadata": {},
   "outputs": [],
   "source": []
  }
 ],
 "metadata": {
  "kernelspec": {
   "display_name": "Python 3",
   "language": "python",
   "name": "python3"
  },
  "language_info": {
   "codemirror_mode": {
    "name": "ipython",
    "version": 3
   },
   "file_extension": ".py",
   "mimetype": "text/x-python",
   "name": "python",
   "nbconvert_exporter": "python",
   "pygments_lexer": "ipython3",
   "version": "3.11.2"
  }
 },
 "nbformat": 4,
 "nbformat_minor": 2
}
