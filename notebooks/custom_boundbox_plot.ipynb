{
 "cells": [
  {
   "cell_type": "code",
   "execution_count": 11,
   "metadata": {},
   "outputs": [
    {
     "name": "stderr",
     "output_type": "stream",
     "text": [
      "/var/folders/qn/wj4_7b6s15b8h1mjnbzrfwyryqk4j8/T/ipykernel_17259/3599690986.py:44: DeprecationWarning: textsize is deprecated and will be removed in Pillow 10 (2023-07-01). Use textbbox or textlength instead.\n",
      "  text_size = draw.textsize(name, font)\n",
      "/var/folders/qn/wj4_7b6s15b8h1mjnbzrfwyryqk4j8/T/ipykernel_17259/3599690986.py:44: DeprecationWarning: textsize is deprecated and will be removed in Pillow 10 (2023-07-01). Use textbbox or textlength instead.\n",
      "  text_size = draw.textsize(name, font)\n",
      "/var/folders/qn/wj4_7b6s15b8h1mjnbzrfwyryqk4j8/T/ipykernel_17259/3599690986.py:44: DeprecationWarning: textsize is deprecated and will be removed in Pillow 10 (2023-07-01). Use textbbox or textlength instead.\n",
      "  text_size = draw.textsize(name, font)\n",
      "/var/folders/qn/wj4_7b6s15b8h1mjnbzrfwyryqk4j8/T/ipykernel_17259/3599690986.py:44: DeprecationWarning: textsize is deprecated and will be removed in Pillow 10 (2023-07-01). Use textbbox or textlength instead.\n",
      "  text_size = draw.textsize(name, font)\n",
      "/var/folders/qn/wj4_7b6s15b8h1mjnbzrfwyryqk4j8/T/ipykernel_17259/3599690986.py:44: DeprecationWarning: textsize is deprecated and will be removed in Pillow 10 (2023-07-01). Use textbbox or textlength instead.\n",
      "  text_size = draw.textsize(name, font)\n"
     ]
    }
   ],
   "source": [
    "from PIL import Image, ImageDraw, ImageFont\n",
    "\n",
    "# Определение классов и соответствующих им цветов\n",
    "class_colors = {\n",
    "    \"adj\": \"red\",\n",
    "    \"int\": \"green\",\n",
    "    \"geo\": \"blue\",\n",
    "    \"pro\": \"yellow\",\n",
    "    \"non\": \"purple\"\n",
    "}\n",
    "\n",
    "def draw_bounding_boxes(image_path, names, coords):\n",
    "    \"\"\"\n",
    "    Отображает bounding boxes и подписывает их именами классов на изображении.\n",
    "\n",
    "    :param image_path: Путь к исходному изображению\n",
    "    :param names: Список имен классов\n",
    "    :param coords: Список относительных координат bounding boxes в формате xyxy\n",
    "    \"\"\"\n",
    "    # Открываем изображение\n",
    "    img = Image.open(image_path).convert(\"RGB\")\n",
    "    draw = ImageDraw.Draw(img)\n",
    "    \n",
    "    # Задаем шрифт для подписи (можете указать путь к своему шрифту)\n",
    "    try:\n",
    "        font = ImageFont.truetype(\"arial.ttf\", 48)\n",
    "    except IOError:\n",
    "        font = ImageFont.load_default()\n",
    "\n",
    "    img_width, img_height = img.size\n",
    "\n",
    "    for name, coord in zip(names, coords):\n",
    "        # Преобразование относительных координат в абсолютные\n",
    "        x1, y1, x2, y2 = coord\n",
    "        x1 *= img_width\n",
    "        y1 *= img_height\n",
    "        x2 *= img_width\n",
    "        y2 *= img_height\n",
    "        \n",
    "        # Рисование bounding box\n",
    "        draw.rectangle([x1, y1, x2, y2], outline=class_colors[name], width=3)\n",
    "        \n",
    "        # Добавление подписи класса рядом с bounding box\n",
    "        text_size = draw.textsize(name, font)\n",
    "        # Подложка для текста для лучшего выделения подписи\n",
    "        draw.rectangle([x1, y1 - text_size[1], x1 + text_size[0], y1], fill=class_colors[name])\n",
    "        draw.text((x1, y1 - text_size[1]), name, fill=\"white\", font=font, text_size=48)\n",
    "    \n",
    "    # Отображение изображения с bounding boxes\n",
    "    img.save('test_save.jpg')\n",
    "\n",
    "# Пример использования функции\n",
    "image_path = '1 (1).jpg'\n",
    "names = ['pro', 'int', 'int', 'int', 'int', 'int']  # Пример имен классов\n",
    "coords = [[     1194.1,      1834.3,      1322.5,      1928.3],\n",
    "       [     1686.7,      1709.4,      2074.4,      1910.6],\n",
    "       [     1708.2,      1714.9,      2038.6,      1840.5],\n",
    "       [     1732.8,      1705.9,      2012.2,      1786.9],\n",
    "       [     1678.7,      1766.5,      2074.8,      1919.3],\n",
    "       [     1677.5,      1812.9,      2072.9,      1919.7]]\n",
    " # Пример относительных координат bounding boxes в формате [x1, y1, x2, y2]\n",
    "\n",
    "draw_bounding_boxes(image_path, names, coords)\n"
   ]
  },
  {
   "cell_type": "code",
   "execution_count": null,
   "metadata": {},
   "outputs": [],
   "source": []
  }
 ],
 "metadata": {
  "kernelspec": {
   "display_name": "Python 3",
   "language": "python",
   "name": "python3"
  },
  "language_info": {
   "codemirror_mode": {
    "name": "ipython",
    "version": 3
   },
   "file_extension": ".py",
   "mimetype": "text/x-python",
   "name": "python",
   "nbconvert_exporter": "python",
   "pygments_lexer": "ipython3",
   "version": "3.11.2"
  }
 },
 "nbformat": 4,
 "nbformat_minor": 2
}
