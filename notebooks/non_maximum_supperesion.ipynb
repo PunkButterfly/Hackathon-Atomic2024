{
 "cells": [
  {
   "cell_type": "code",
   "execution_count": 12,
   "metadata": {},
   "outputs": [
    {
     "name": "stdout",
     "output_type": "stream",
     "text": [
      "[2 1 0]\n",
      "[2]\n"
     ]
    }
   ],
   "source": [
    "import numpy as np\n",
    "\n",
    "def iou(box1, box2):\n",
    "    \"\"\"\n",
    "    Вычисляет коэффициент перекрытия (IoU) между двумя bounding boxes.\n",
    "    \n",
    "    :param box1: Координаты первого бокса [x1, y1, x2, y2]\n",
    "    :param box2: Координаты второго бокса [x1, y1, x2, y2]\n",
    "    :return: IoU\n",
    "    \"\"\"\n",
    "    x1 = max(box1[0], box2[0])\n",
    "    y1 = max(box1[1], box2[1])\n",
    "    x2 = min(box1[2], box2[2])\n",
    "    y2 = min(box1[3], box2[3])\n",
    "    \n",
    "    inter_area = max(0, x2 - x1) * max(0, y2 - y1)\n",
    "    box1_area = (box1[2] - box1[0]) * (box1[3] - box1[1])\n",
    "    box2_area = (box2[2] - box2[0]) * (box2[3] - box2[1])\n",
    "    \n",
    "    union_area = box1_area + box2_area - inter_area\n",
    "    \n",
    "    return inter_area / union_area\n",
    "\n",
    "def non_maximum_suppression(confs, coords, iou_threshold=0.8):\n",
    "    \"\"\"\n",
    "    Применяет Non-Maximum Suppression (NMS) для устранения перекрывающихся боксов.\n",
    "    \n",
    "    :param names: Список имен классов\n",
    "    :param confs: Список уверенности в обнаружении\n",
    "    :param coords: Список координат боксов [x1, y1, x2, y2]\n",
    "    :param iou_threshold: Порог IoU для определения перекрывающихся боксов\n",
    "    :return: Оставшиеся боксы после применения NMS\n",
    "    \"\"\"\n",
    "    indices = np.argsort(confs)[::-1]\n",
    "    print(indices)\n",
    "    \n",
    "    keep_boxes = []\n",
    "    while len(indices) > 0:\n",
    "        current_index = indices[0]\n",
    "        current_box = coords[current_index]\n",
    "        \n",
    "        keep_boxes.append(current_index)\n",
    "        \n",
    "        iou_scores = np.array([iou(current_box, coords[i]) for i in indices[1:]])\n",
    "        \n",
    "        indices = indices[1:][iou_scores <= iou_threshold]\n",
    "        \n",
    "    return keep_boxes\n",
    "\n",
    "# Пример использования функции\n",
    "detection_results = [\n",
    "    {\n",
    "        \"names\": [\"object1\", \"object2\", \"object3\"],\n",
    "        \"confs\": np.array([0.1, 0.7, 0.85]),\n",
    "        \"coords\": np.array([\n",
    "            [50, 50, 150, 150],\n",
    "            [60, 60, 150, 150],\n",
    "            [60, 60, 150, 150]\n",
    "        ])\n",
    "    }\n",
    "]\n",
    "\n",
    "for result in detection_results:\n",
    "    names, confs, coords = result[\"names\"], result[\"confs\"], result[\"coords\"]\n",
    "    indices = non_maximum_suppression(confs, coords, iou_threshold=0.8)\n",
    "    print(indices)\n"
   ]
  }
 ],
 "metadata": {
  "kernelspec": {
   "display_name": "Python 3",
   "language": "python",
   "name": "python3"
  },
  "language_info": {
   "codemirror_mode": {
    "name": "ipython",
    "version": 3
   },
   "file_extension": ".py",
   "mimetype": "text/x-python",
   "name": "python",
   "nbconvert_exporter": "python",
   "pygments_lexer": "ipython3",
   "version": "3.11.2"
  }
 },
 "nbformat": 4,
 "nbformat_minor": 2
}
